{
 "cells": [
  {
   "cell_type": "code",
   "execution_count": 5,
   "id": "1824f75f",
   "metadata": {},
   "outputs": [
    {
     "name": "stdout",
     "output_type": "stream",
     "text": [
      "✅ Jumlah istilah unik: 1932\n",
      "✅ File berhasil disimpan sebagai 'glossary_combined.txt'\n"
     ]
    }
   ],
   "source": [
    "# Nama file sumber\n",
    "file1 = \"bird_glossary_terms.txt\"\n",
    "file2 = \"glossary_terms.txt\"\n",
    "\n",
    "# Baca semua baris dari kedua file\n",
    "with open(file1, \"r\", encoding=\"utf-8\") as f1:\n",
    "    terms1 = [line.strip() for line in f1 if line.strip()]\n",
    "\n",
    "with open(file2, \"r\", encoding=\"utf-8\") as f2:\n",
    "    terms2 = [line.strip() for line in f2 if line.strip()]\n",
    "\n",
    "# Gabungkan dan hapus duplikat\n",
    "combined_terms = sorted(set(terms1 + terms2))\n",
    "\n",
    "# Simpan ke file baru\n",
    "with open(\"glossary_combined.txt\", \"w\", encoding=\"utf-8\") as f:\n",
    "    f.write(\"\\n\".join(combined_terms))\n",
    "\n",
    "print(f\"✅ Jumlah istilah unik: {len(combined_terms)}\")\n",
    "print(\"✅ File berhasil disimpan sebagai 'glossary_combined.txt'\")\n"
   ]
  },
  {
   "cell_type": "code",
   "execution_count": 2,
   "id": "5321abd3",
   "metadata": {},
   "outputs": [
    {
     "name": "stdout",
     "output_type": "stream",
     "text": [
      "✅ Istilah morfologi terpilih: 129\n",
      "['convention on international trade in endangered species (cites)', 'coverts', 'crown', 'crown-stripe', 'ear-coverts', 'eclipse plumage', 'eye-ring', 'eye-stripe', 'flank', 'flight feathers', 'foreneck', 'house finch eye disease', 'iris', 'mandible', 'mantle', 'nape', 'necklace', 'nuptial plumage', 'plumage', 'rump', 'scapulars', 'shoebill', 'supercilium', 'tail streamers', 'tarsus', 'underwing', 'vent', 'ventral', 'wing-bar', 'wing-coverts', 'wing-span', 'winter plumage', 'afterfeather', 'alternate plumage', 'atrioventricular valve', 'auricular feathers', 'basic plumage', 'beak', 'bend of the wing', 'bill', 'bill tip organ', 'bill-wiping', 'breast', 'breeding plumage', 'broadbills', 'contour feathers', 'coverts', 'crown', 'crown group', 'definitive plumages', 'delayed plumage maturation', 'down feathers', 'eclipse plumage', 'elliptical wings', 'emarginate tail', 'eventual variety', 'extinction events', 'eye ring', 'eyeball', 'eyebrow stripe', 'eyeline', 'feather comb', 'feather follicle', 'feather papillae', 'feather sheath', 'feather tracts', 'flank', 'flight feathers', 'foot', 'forked tail', 'founder event', 'genetic bottleneck', 'graduated tail', 'greater coverts', 'hepatoenteric ducts', 'heterodactyl foot', 'high-aspect-ratio wings', 'high-speed wings', 'honeyeaters', 'hornbills', 'inner wing', 'iris', 'juvenal plumage', 'k–t event', 'leg spurs', 'lesser coverts', 'lower beak', 'mandible', 'marginal coverts', 'median coverts', 'metatarsus', 'nape', 'nonbreeding plumage', 'notched tail', 'nuptial plumage', 'outer wing', 'pin feathers', 'plumage', 'primary feathers', 'proventriculus', 'rump', 'scapulars', 'secondary feathers', 'slotted high-lift wings', 'spread-wing posture', 'square tail', 'subadult plumage', 'supplemental plumage', 'tail bone', 'tarsometatarsus', 'tarsus', 'thigh', 'tibiotarsus', 'trumpeters', 'undertail coverts', 'underwing coverts', 'upper beak', 'uppertail coverts', 'vent', 'ventral', 'ventricles', 'waxbills', 'wing loading', 'wing pouch', 'wing spurs', 'wing-flashing', 'wingspan', 'winnowing', 'winter plumage']\n"
     ]
    }
   ],
   "source": [
    "import json\n",
    "\n",
    "# Buka hasil glosarium gabungan\n",
    "with open(\"glossary_combined.txt\", \"r\", encoding=\"utf-8\") as f:\n",
    "    terms = [line.strip().lower() for line in f if line.strip()]\n",
    "\n",
    "# Kata kunci morfologi umum\n",
    "morph_keywords = [\n",
    "    \"bill\", \"beak\", \"tail\", \"feather\", \"plumage\", \"crown\", \"nape\", \"mantle\", \"scapular\", \"wing\",\n",
    "    \"leg\", \"toe\", \"foot\", \"throat\", \"abdomen\", \"breast\", \"eye\", \"iris\", \"eyering\", \"flank\",\n",
    "    \"auricular\", \"coverts\", \"rump\", \"vent\", \"thigh\", \"neck\", \"tarsus\", \"mandible\", \"nostril\", \"supercilium\"\n",
    "]\n",
    "\n",
    "# Ambil hanya istilah morfologi berdasarkan kata kunci\n",
    "morph_terms = [term for term in terms if any(keyword in term for keyword in morph_keywords)]\n",
    "\n",
    "# Simpan ke JSON\n",
    "with open(\"glossary_morphology_filtered.json\", \"w\", encoding=\"utf-8\") as f:\n",
    "    json.dump(morph_terms, f, indent=4, ensure_ascii=False)\n",
    "\n",
    "print(f\"✅ Istilah morfologi terpilih: {len(morph_terms)}\")\n",
    "print(morph_terms)"
   ]
  },
  {
   "cell_type": "code",
   "execution_count": 3,
   "id": "64a3f59a",
   "metadata": {},
   "outputs": [],
   "source": [
    "captions_wrong = [\n",
    "    \"burung ini memiliki tagihan tebal dan ekor datar\",\n",
    "    \"warna bulunya coklat dengan garis superciliary tipis\",\n",
    "    \"ia memiliki bulu atas yang kontras dan dagu pucat\"\n",
    "]\n"
   ]
  },
  {
   "cell_type": "code",
   "execution_count": 19,
   "id": "1c569fb5",
   "metadata": {},
   "outputs": [
    {
     "name": "stdout",
     "output_type": "stream",
     "text": [
      "🧠 Istilah non-ornitologis terdeteksi (perlu dicek/koreksi):\n",
      "['putih.', 'ini', 'dan', 'coklat', 'lubang', 'bulunya', 'memiliki', 'warna', 'kaki', 'superciliary', 'putih,', 'bulu', 'kuning', 'tipis', 'perut', 'burung', 'kurus.', 'paruh', 'garis', 'halus,', 'putih', 'emas,', 'dengan', 'hitam', 'kecil', 'pendek', 'batang', 'tubuh']\n"
     ]
    }
   ],
   "source": [
    "from difflib import get_close_matches\n",
    "\n",
    "# Daftar caption salah (contoh)\n",
    "captions_wrong = [\n",
    "    \"burung kecil memiliki perut emas, paruh putih pendek dan lubang putih.\",\n",
    "    \"warna bulunya coklat dengan garis superciliary tipis\",\n",
    "    \"burung kecil ini memiliki bulu halus, batang kuning dan tubuh putih, dengan kaki hitam kurus.\"\n",
    "]\n",
    "\n",
    "# Glosarium morfologi (bisa dimuat dari JSON jika sudah disimpan)\n",
    "glossary_morph = [\n",
    "    \"abdomen\", \"auriculars\", \"beak\", \"bill\", \"breast\", \"crown\", \"coverts\", \"eye\", \"eyering\",\n",
    "    \"feather\", \"flank\", \"foot\", \"iris\", \"leg\", \"mandible\", \"mantle\", \"nape\", \"neck\", \"nostril\",\n",
    "    \"plumage\", \"rump\", \"scapulars\", \"supercilium\", \"tail\", \"tarsus\", \"thigh\", \"throat\", \"toe\",\n",
    "    \"vent\", \"wing\"\n",
    "]\n",
    "\n",
    "# Tokenisasi semua kata dari caption salah\n",
    "tokens = set(\" \".join(captions_wrong).lower().split())\n",
    "\n",
    "# Cari istilah yang tidak ada di glosarium (kemungkinan terjemahan literal/salah)\n",
    "non_morph_terms = []\n",
    "for word in tokens:\n",
    "    match = get_close_matches(word, glossary_morph, n=1, cutoff=0.85)\n",
    "    if not match:\n",
    "        non_morph_terms.append(word)\n",
    "\n",
    "print(\"🧠 Istilah non-ornitologis terdeteksi (perlu dicek/koreksi):\")\n",
    "print(non_morph_terms)\n"
   ]
  },
  {
   "cell_type": "code",
   "execution_count": null,
   "id": "d7fef6c5",
   "metadata": {},
   "outputs": [
    {
     "name": "stdout",
     "output_type": "stream",
     "text": [
      "| Sebelum Koreksi                                                                               | Setelah Koreksi                                                                                     |\n",
      "|:----------------------------------------------------------------------------------------------|:----------------------------------------------------------------------------------------------------|\n",
      "| burung kecil memiliki perut emas, paruh putih pendek dan lubang putih.                        | burung kecil memiliki perut emas, paruh putih pendek dan lubang putih.                              |\n",
      "| warna bulunya coklat dengan garis superciliary tipis                                          | warna bulunya coklat dengan garis alis tipis                                                        |\n",
      "| burung kecil ini memiliki bulu halus, batang kuning dan tubuh putih, dengan kaki hitam kurus. | burung kecil ini memiliki bulu halus, batang tubuh kuning dan tubuh putih, dengan kaki hitam kurus. |\n"
     ]
    }
   ],
   "source": [
    "# contoh salah -> benar\n",
    "correction_map = {\n",
    "    \"tagihan\": \"paruh\",\n",
    "    \"payudara\": \"dada\",\n",
    "    \"tambalan\": \"bercak\",\n",
    "    \"datar\": \"pipih\",\n",
    "    \"garis superciliary\": \"garis alis\",\n",
    "    \"persegi panjang\": \"\",\n",
    "}\n",
    "\n",
    "corrected_captions = []\n",
    "for caption in captions_wrong:\n",
    "    corrected = caption\n",
    "    for wrong_term, correct_term in correction_map.items():\n",
    "        if wrong_term in corrected:\n",
    "            corrected = corrected.replace(wrong_term, correct_term)\n",
    "    corrected_captions.append((caption, corrected))\n",
    "\n",
    "import pandas as pd\n",
    "df = pd.DataFrame(corrected_captions, columns=[\"Sebelum Koreksi\", \"Setelah Koreksi\"])\n",
    "print(df.to_markdown(index=False))\n"
   ]
  }
 ],
 "metadata": {
  "kernelspec": {
   "display_name": "base",
   "language": "python",
   "name": "python3"
  },
  "language_info": {
   "codemirror_mode": {
    "name": "ipython",
    "version": 3
   },
   "file_extension": ".py",
   "mimetype": "text/x-python",
   "name": "python",
   "nbconvert_exporter": "python",
   "pygments_lexer": "ipython3",
   "version": "3.12.7"
  }
 },
 "nbformat": 4,
 "nbformat_minor": 5
}

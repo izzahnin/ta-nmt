{
 "cells": [
  {
   "cell_type": "code",
   "execution_count": null,
   "metadata": {},
   "outputs": [],
   "source": [
    "import json\n",
    "\n",
    "with open(\"paralel_cub_200_2011_captions.json\", \"r\") as f:\n",
    "    json_data = json.load(f)"
   ]
  },
  {
   "cell_type": "code",
   "execution_count": null,
   "metadata": {},
   "outputs": [],
   "source": [
    "json_data.keys()"
   ]
  },
  {
   "cell_type": "code",
   "execution_count": null,
   "metadata": {},
   "outputs": [],
   "source": [
    "json_data['dataset']"
   ]
  },
  {
   "cell_type": "code",
   "execution_count": null,
   "metadata": {},
   "outputs": [],
   "source": [
    "captions = []\n",
    "for entry in json_data['dataset']:\n",
    "    captions.extend(entry['captions']) "
   ]
  },
  {
   "cell_type": "code",
   "execution_count": null,
   "metadata": {},
   "outputs": [],
   "source": [
    "captions"
   ]
  },
  {
   "cell_type": "code",
   "execution_count": null,
   "metadata": {},
   "outputs": [],
   "source": [
    "dataset_translate[100]"
   ]
  },
  {
   "cell_type": "code",
   "execution_count": null,
   "metadata": {},
   "outputs": [],
   "source": [
    "# len(dataset_translate)"
   ]
  },
  {
   "cell_type": "code",
   "execution_count": null,
   "metadata": {},
   "outputs": [],
   "source": [
    "import re\n",
    "from collections import Counter\n",
    "def clean_text(text):\n",
    "    text = re.sub(r\"[^a-zA-Z\\s]\", \"\", text)  # Hanya menyisakan huruf dan spasi\n",
    "    return text.lower()\n",
    "\n",
    "cleaned_captions = [clean_text(text) for text in captions]\n"
   ]
  },
  {
   "cell_type": "code",
   "execution_count": null,
   "metadata": {},
   "outputs": [],
   "source": [
    "cleaned_captions"
   ]
  },
  {
   "cell_type": "code",
   "execution_count": null,
   "metadata": {},
   "outputs": [],
   "source": [
    "# Tokenisasi: Memecah teks menjadi kata-kata\n",
    "word_list = []\n",
    "for sentence in cleaned_captions:\n",
    "    word_list.extend(sentence.split())\n",
    "\n",
    "# Menghitung frekuensi setiap kata\n",
    "word_counts = Counter(word_list)\n",
    "\n",
    "# Menampilkan 50 kata yang paling sering muncul\n",
    "common_words = word_counts.most_common(50)\n",
    "\n",
    "print(\"50 kata paling umum dalam dataset:\")\n",
    "for word, freq in common_words:\n",
    "    print(f\"{word}: {freq}\")"
   ]
  },
  {
   "cell_type": "code",
   "execution_count": 59,
   "metadata": {},
   "outputs": [
    {
     "name": "stdout",
     "output_type": "stream",
     "text": [
      "50 kata paling umum dalam dataset:\n"
     ]
    }
   ],
   "source": [
    "import json\n",
    "import re\n",
    "from collections import Counter\n",
    "\n",
    "# Membuka file JSON\n",
    "filename = \"paralel_cub_200_2011_captions.json\"\n",
    "\n",
    "with open(filename, \"r\", encoding=\"utf-8\") as file:\n",
    "    json_data = json.load(file)\n",
    "\n",
    "# Mengumpulkan semua teks caption dari dataset (menyesuaikan jika struktur adalah dictionary)\n",
    "captions = []\n",
    "for entry in json_data['dataset']:\n",
    "    for caption in entry['captions']:\n",
    "        if isinstance(caption, dict) and \"text\" in caption:  # Pastikan mengambil value dari key 'text'\n",
    "            captions.append(caption[\"text\"])\n",
    "        elif isinstance(caption, str):  # Jika caption sudah berupa string, langsung simpan\n",
    "            captions.append(caption)\n",
    "\n",
    "# Membersihkan teks (menghapus angka, karakter spesial, dan membuat lowercase)\n",
    "def clean_text(text):\n",
    "    text = re.sub(r\"[^a-zA-Z\\s]\", \"\", text)  # Hanya menyisakan huruf dan spasi\n",
    "    return text.lower()\n",
    "\n",
    "# Terapkan pembersihan teks ke setiap caption\n",
    "cleaned_captions = [clean_text(text) for text in captions]\n",
    "\n",
    "# Tokenisasi: Memecah teks menjadi kata-kata\n",
    "word_list = []\n",
    "for sentence in cleaned_captions:\n",
    "    word_list.extend(sentence.split())\n",
    "\n",
    "# Menghitung frekuensi setiap kata\n",
    "word_counts = Counter(word_list)\n",
    "\n",
    "# Menampilkan 50 kata yang paling sering muncul\n",
    "common_words = word_counts.most_common(50)\n",
    "\n",
    "print(\"50 kata paling umum dalam dataset:\")\n",
    "for word, freq in common_words:\n",
    "    print(f\"{word}: {freq}\")\n"
   ]
  },
  {
   "cell_type": "code",
   "execution_count": null,
   "metadata": {},
   "outputs": [],
   "source": []
  }
 ],
 "metadata": {
  "kernelspec": {
   "display_name": "base",
   "language": "python",
   "name": "python3"
  },
  "language_info": {
   "codemirror_mode": {
    "name": "ipython",
    "version": 3
   },
   "file_extension": ".py",
   "mimetype": "text/x-python",
   "name": "python",
   "nbconvert_exporter": "python",
   "pygments_lexer": "ipython3",
   "version": "3.12.7"
  }
 },
 "nbformat": 4,
 "nbformat_minor": 2
}

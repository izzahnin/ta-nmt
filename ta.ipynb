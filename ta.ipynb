{
 "cells": [
  {
   "cell_type": "code",
   "execution_count": 1,
   "id": "de9c4ecd",
   "metadata": {},
   "outputs": [],
   "source": [
    "import json\n",
    "\n",
    "with open(\"paralel_cub_200_2011_captions_final.json\", \"r\", encoding=\"utf-8\") as f:\n",
    "    json_data = json.load(f)\n",
    "\n",
    "dataset_only = json_data['dataset']"
   ]
  },
  {
   "cell_type": "code",
   "execution_count": 2,
   "id": "5c2b9e5b",
   "metadata": {},
   "outputs": [],
   "source": [
    "captions = []\n",
    "for entry in dataset_only:\n",
    "    captions.extend(entry['captions'])  # captions is a list of {'english': ..., 'indo': ...}"
   ]
  },
  {
   "cell_type": "code",
   "execution_count": 3,
   "id": "475409b1",
   "metadata": {},
   "outputs": [],
   "source": [
    "import re\n",
    "\n",
    "def clean_text(text):\n",
    "    text = re.sub(r\"[^a-zA-Z0-9.,;:'\\\"()\\-\\s]\", '', text)\n",
    "    text = re.sub(r'\\s+', ' ', text).strip()\n",
    "    return text\n",
    "\n",
    "# Cleaning captions\n",
    "for caption in captions:\n",
    "    caption['english'] = clean_text(caption['english'])\n",
    "    caption['indo'] = clean_text(caption['indo'])\n"
   ]
  },
  {
   "cell_type": "code",
   "execution_count": 4,
   "id": "4713f637",
   "metadata": {},
   "outputs": [],
   "source": [
    "def remove_duplicates(data):\n",
    "    seen = set()\n",
    "    cleaned = []\n",
    "    for item in data:\n",
    "        pair = (item['english'], item['indo'])\n",
    "        if pair not in seen:\n",
    "            seen.add(pair)\n",
    "            cleaned.append(item)\n",
    "    return cleaned\n",
    "\n",
    "cleaned_captions = remove_duplicates(captions)\n"
   ]
  },
  {
   "cell_type": "code",
   "execution_count": 5,
   "id": "4b6d73a4",
   "metadata": {},
   "outputs": [],
   "source": [
    "from sklearn.model_selection import train_test_split\n",
    "\n",
    "train_data, test_data = train_test_split(cleaned_captions, test_size=0.1, random_state=42)\n"
   ]
  },
  {
   "cell_type": "code",
   "execution_count": 6,
   "id": "a7bc2a6e",
   "metadata": {},
   "outputs": [],
   "source": [
    "with open('train_data.json', 'w', encoding='utf-8') as f:\n",
    "    json.dump(train_data, f, ensure_ascii=False, indent=4)\n",
    "\n",
    "with open('test_data.json', 'w', encoding='utf-8') as f:\n",
    "    json.dump(test_data, f, ensure_ascii=False, indent=4)\n"
   ]
  },
  {
   "cell_type": "code",
   "execution_count": null,
   "id": "54a3d166",
   "metadata": {},
   "outputs": [],
   "source": []
  }
 ],
 "metadata": {
  "kernelspec": {
   "display_name": "base",
   "language": "python",
   "name": "python3"
  },
  "language_info": {
   "codemirror_mode": {
    "name": "ipython",
    "version": 3
   },
   "file_extension": ".py",
   "mimetype": "text/x-python",
   "name": "python",
   "nbconvert_exporter": "python",
   "pygments_lexer": "ipython3",
   "version": "3.12.7"
  }
 },
 "nbformat": 4,
 "nbformat_minor": 5
}

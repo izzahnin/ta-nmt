{
 "cells": [
  {
   "cell_type": "code",
   "execution_count": null,
   "id": "d17c519f",
   "metadata": {},
   "outputs": [],
   "source": [
    "import json\n",
    "import os\n",
    "\n",
    "# Path ke folder file txt dan folder output_classes yang berisi class_0.json ... class_199.json\n",
    "txt_folder = \"path_ke_folder_txt\"           # Ganti path ini ke folder .txt kamu\n",
    "json_folder = \"output_classes\"              # Folder yang berisi semua class_*.json\n",
    "output_folder = \"output_json\"               # Folder untuk menyimpan file hasil modifikasi\n",
    "\n",
    "# Buat folder output jika belum ada\n",
    "os.makedirs(output_folder, exist_ok=True)\n",
    "\n",
    "# Loop semua file JSON di dalam folder output_classes\n",
    "for filename in os.listdir(json_folder):\n",
    "    if not filename.endswith(\".json\"):\n",
    "        continue\n",
    "    json_path = os.path.join(json_folder, filename)\n",
    "\n",
    "    with open(json_path, 'r', encoding='utf-8') as jf:\n",
    "        data = json.load(jf)\n",
    "\n",
    "    for entry in data:\n",
    "        base_filename = entry[\"filename\"]\n",
    "        txt_path = os.path.join(txt_folder, f\"{base_filename}.txt\")\n",
    "\n",
    "        try:\n",
    "            with open(txt_path, 'r', encoding='utf-8') as tf:\n",
    "                lines = tf.readlines()\n",
    "                if len(lines) >= 3:\n",
    "                    baris_ketiga = lines[2].strip()\n",
    "                    if len(entry[\"captions\"]) > 2:\n",
    "                        entry[\"captions\"][2][\"indo\"] = baris_ketiga\n",
    "                else:\n",
    "                    print(f\"[!] {base_filename}.txt kurang dari 3 baris.\")\n",
    "        except FileNotFoundError:\n",
    "            print(f\"[!] {base_filename}.txt tidak ditemukan.\")\n",
    "\n",
    "    # Simpan hasil modifikasi ke output folder\n",
    "    output_path = os.path.join(output_folder, filename)\n",
    "    with open(output_path, 'w', encoding='utf-8') as out:\n",
    "        json.dump(data, out, indent=2, ensure_ascii=False)\n",
    "\n",
    "    print(f\"[✓] Berhasil update {filename}\")\n",
    "\n",
    "print(\"\\n✅ Selesai memproses semua file dari output_classes.\")\n"
   ]
  }
 ],
 "metadata": {
  "language_info": {
   "name": "python"
  }
 },
 "nbformat": 4,
 "nbformat_minor": 5
}

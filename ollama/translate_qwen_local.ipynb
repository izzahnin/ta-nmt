{
 "cells": [
  {
   "cell_type": "code",
   "execution_count": null,
   "id": "fac7a84d",
   "metadata": {},
   "outputs": [],
   "source": []
  },
  {
   "cell_type": "code",
   "execution_count": 9,
   "id": "695ad1d4",
   "metadata": {},
   "outputs": [
    {
     "name": "stdout",
     "output_type": "stream",
     "text": [
      "🔹 English   : The bird has a thick curved bill and a white crown.\n",
      "🔸 Terjemahan: Burung tersebut memiliki paruh yang tebal dan berbentuk putus-putus, serta mempunyai korne yang putih.\n"
     ]
    }
   ],
   "source": [
    "import subprocess\n",
    "\n",
    "def translate_with_qwen(text: str) -> str:\n",
    "    prompt = (\n",
    "        \"You are a professional ornithological translator.\\n\"\n",
    "        \"Translate the following English sentence into Indonesian.\\n\"\n",
    "        \"dont explain, just translate.\\n\"\n",
    "        \"Use the correct scientific terminology. Example:\\n\"\n",
    "        \"English: The bird has a long bill and dark plumage.\\n\"\n",
    "        \"Indonesian: Burung tersebut memiliki paruh panjang dan bulu gelap.\\n\\n\"\n",
    "        f\"English: {text}\\n\"\n",
    "        f\"Indonesian:\"\n",
    "    )\n",
    "\n",
    "    result = subprocess.run(\n",
    "        # [\"ollama\", \"run\", \"llama2\"],\n",
    "        [\"ollama\", \"run\", \"lauchacarro/qwen2.5-translator\"],\n",
    "\n",
    "        input=prompt.encode(),\n",
    "        stdout=subprocess.PIPE,\n",
    "        stderr=subprocess.PIPE\n",
    "    )\n",
    "\n",
    "    return result.stdout.decode(\"utf-8\").strip()\n",
    "\n",
    "\n",
    "# === CONTOH ===\n",
    "english_text = \"The bird has a thick curved bill and a white crown.\"\n",
    "translated = translate_with_qwen(english_text)\n",
    "\n",
    "print(\"🔹 English   :\", english_text)\n",
    "print(\"🔸 Terjemahan:\", translated)\n"
   ]
  }
 ],
 "metadata": {
  "kernelspec": {
   "display_name": "base",
   "language": "python",
   "name": "python3"
  },
  "language_info": {
   "codemirror_mode": {
    "name": "ipython",
    "version": 3
   },
   "file_extension": ".py",
   "mimetype": "text/x-python",
   "name": "python",
   "nbconvert_exporter": "python",
   "pygments_lexer": "ipython3",
   "version": "3.12.7"
  }
 },
 "nbformat": 4,
 "nbformat_minor": 5
}
